{
 "cells": [
  {
   "cell_type": "code",
   "execution_count": 1,
   "metadata": {
    "_cell_guid": "b1076dfc-b9ad-4769-8c92-a6c4dae69d19",
    "_uuid": "8f2839f25d086af736a60e9eeb907d3b93b6e0e5"
   },
   "outputs": [
    {
     "name": "stdout",
     "output_type": "stream",
     "text": [
      "/kaggle/input/novel-corona-virus-2019-dataset/time_series_2019_ncov_confirmed.csv\n",
      "/kaggle/input/novel-corona-virus-2019-dataset/time_series_2019_ncov_deaths.csv\n",
      "/kaggle/input/novel-corona-virus-2019-dataset/2019_nCoV_data.csv\n",
      "/kaggle/input/novel-corona-virus-2019-dataset/time_series_2019_ncov_recovered.csv\n"
     ]
    }
   ],
   "source": [
    "import numpy as np\n",
    "import pandas as pd\n",
    "import matplotlib.pyplot as plt\n",
    "import os\n",
    "for dirname, _, filenames in os.walk('/kaggle/input'):\n",
    "    for filename in filenames:\n",
    "        print(os.path.join(dirname, filename))"
   ]
  },
  {
   "cell_type": "code",
   "execution_count": 2,
   "metadata": {
    "_cell_guid": "79c7e3d0-c299-4dcb-8224-4455121ee9b0",
    "_uuid": "d629ff2d2480ee46fbb7e2d37f6b5fab8052498a"
   },
   "outputs": [
    {
     "data": {
      "text/html": [
       "<div>\n",
       "<style scoped>\n",
       "    .dataframe tbody tr th:only-of-type {\n",
       "        vertical-align: middle;\n",
       "    }\n",
       "\n",
       "    .dataframe tbody tr th {\n",
       "        vertical-align: top;\n",
       "    }\n",
       "\n",
       "    .dataframe thead th {\n",
       "        text-align: right;\n",
       "    }\n",
       "</style>\n",
       "<table border=\"1\" class=\"dataframe\">\n",
       "  <thead>\n",
       "    <tr style=\"text-align: right;\">\n",
       "      <th></th>\n",
       "      <th>Date</th>\n",
       "      <th>Province/State</th>\n",
       "      <th>Country</th>\n",
       "      <th>Last Update</th>\n",
       "      <th>Confirmed</th>\n",
       "      <th>Deaths</th>\n",
       "      <th>Recovered</th>\n",
       "    </tr>\n",
       "    <tr>\n",
       "      <th>Sno</th>\n",
       "      <th></th>\n",
       "      <th></th>\n",
       "      <th></th>\n",
       "      <th></th>\n",
       "      <th></th>\n",
       "      <th></th>\n",
       "      <th></th>\n",
       "    </tr>\n",
       "  </thead>\n",
       "  <tbody>\n",
       "    <tr>\n",
       "      <th>1</th>\n",
       "      <td>01/22/2020 12:00:00</td>\n",
       "      <td>Anhui</td>\n",
       "      <td>China</td>\n",
       "      <td>01/22/2020 12:00:00</td>\n",
       "      <td>1.0</td>\n",
       "      <td>0.0</td>\n",
       "      <td>0.0</td>\n",
       "    </tr>\n",
       "    <tr>\n",
       "      <th>2</th>\n",
       "      <td>01/22/2020 12:00:00</td>\n",
       "      <td>Beijing</td>\n",
       "      <td>China</td>\n",
       "      <td>01/22/2020 12:00:00</td>\n",
       "      <td>14.0</td>\n",
       "      <td>0.0</td>\n",
       "      <td>0.0</td>\n",
       "    </tr>\n",
       "    <tr>\n",
       "      <th>3</th>\n",
       "      <td>01/22/2020 12:00:00</td>\n",
       "      <td>Chongqing</td>\n",
       "      <td>China</td>\n",
       "      <td>01/22/2020 12:00:00</td>\n",
       "      <td>6.0</td>\n",
       "      <td>0.0</td>\n",
       "      <td>0.0</td>\n",
       "    </tr>\n",
       "    <tr>\n",
       "      <th>4</th>\n",
       "      <td>01/22/2020 12:00:00</td>\n",
       "      <td>Fujian</td>\n",
       "      <td>China</td>\n",
       "      <td>01/22/2020 12:00:00</td>\n",
       "      <td>1.0</td>\n",
       "      <td>0.0</td>\n",
       "      <td>0.0</td>\n",
       "    </tr>\n",
       "    <tr>\n",
       "      <th>5</th>\n",
       "      <td>01/22/2020 12:00:00</td>\n",
       "      <td>Gansu</td>\n",
       "      <td>China</td>\n",
       "      <td>01/22/2020 12:00:00</td>\n",
       "      <td>0.0</td>\n",
       "      <td>0.0</td>\n",
       "      <td>0.0</td>\n",
       "    </tr>\n",
       "  </tbody>\n",
       "</table>\n",
       "</div>"
      ],
      "text/plain": [
       "                    Date Province/State Country          Last Update  \\\n",
       "Sno                                                                    \n",
       "1    01/22/2020 12:00:00          Anhui   China  01/22/2020 12:00:00   \n",
       "2    01/22/2020 12:00:00        Beijing   China  01/22/2020 12:00:00   \n",
       "3    01/22/2020 12:00:00      Chongqing   China  01/22/2020 12:00:00   \n",
       "4    01/22/2020 12:00:00         Fujian   China  01/22/2020 12:00:00   \n",
       "5    01/22/2020 12:00:00          Gansu   China  01/22/2020 12:00:00   \n",
       "\n",
       "     Confirmed  Deaths  Recovered  \n",
       "Sno                                \n",
       "1          1.0     0.0        0.0  \n",
       "2         14.0     0.0        0.0  \n",
       "3          6.0     0.0        0.0  \n",
       "4          1.0     0.0        0.0  \n",
       "5          0.0     0.0        0.0  "
      ]
     },
     "execution_count": 2,
     "metadata": {},
     "output_type": "execute_result"
    }
   ],
   "source": [
    "cov_data = pd.read_csv(\"/kaggle/input/novel-corona-virus-2019-dataset/2019_nCoV_data.csv\", index_col=0)\n",
    "cov_deaths = pd.read_csv(\"/kaggle/input/novel-corona-virus-2019-dataset/time_series_2019_ncov_deaths.csv\")\n",
    "cov_confirmed = pd.read_csv(\"/kaggle/input/novel-corona-virus-2019-dataset/time_series_2019_ncov_confirmed.csv\")\n",
    "cov_recovered = pd.read_csv(\"/kaggle/input/novel-corona-virus-2019-dataset/time_series_2019_ncov_recovered.csv\")\n",
    "cov_data.head()"
   ]
  },
  {
   "cell_type": "code",
   "execution_count": 3,
   "metadata": {},
   "outputs": [
    {
     "data": {
      "text/html": [
       "<div>\n",
       "<style scoped>\n",
       "    .dataframe tbody tr th:only-of-type {\n",
       "        vertical-align: middle;\n",
       "    }\n",
       "\n",
       "    .dataframe tbody tr th {\n",
       "        vertical-align: top;\n",
       "    }\n",
       "\n",
       "    .dataframe thead th {\n",
       "        text-align: right;\n",
       "    }\n",
       "</style>\n",
       "<table border=\"1\" class=\"dataframe\">\n",
       "  <thead>\n",
       "    <tr style=\"text-align: right;\">\n",
       "      <th></th>\n",
       "      <th>Province/State</th>\n",
       "      <th>Country/Region</th>\n",
       "      <th>Lat</th>\n",
       "      <th>Long</th>\n",
       "      <th>1/21/20 22:00</th>\n",
       "      <th>1/22/20 12:00</th>\n",
       "      <th>1/23/20 12:00</th>\n",
       "      <th>1/24/20 0:00</th>\n",
       "      <th>1/24/20 12:00</th>\n",
       "      <th>1/25/20 0:00</th>\n",
       "      <th>...</th>\n",
       "      <th>02/05/20 9:00</th>\n",
       "      <th>02/05/20 23:00</th>\n",
       "      <th>02/06/20 9:00</th>\n",
       "      <th>02/06/20 14:20</th>\n",
       "      <th>02/07/20 20:13</th>\n",
       "      <th>02/07/20 22:50</th>\n",
       "      <th>02/08/20 22:04</th>\n",
       "      <th>02/08/20 23:04</th>\n",
       "      <th>02/09/20 10:30</th>\n",
       "      <th>02/09/20 23:20</th>\n",
       "    </tr>\n",
       "  </thead>\n",
       "  <tbody>\n",
       "    <tr>\n",
       "      <th>0</th>\n",
       "      <td>Anhui</td>\n",
       "      <td>Mainland China</td>\n",
       "      <td>31.82571</td>\n",
       "      <td>117.2264</td>\n",
       "      <td>NaN</td>\n",
       "      <td>1.0</td>\n",
       "      <td>9.0</td>\n",
       "      <td>15.0</td>\n",
       "      <td>15.0</td>\n",
       "      <td>39.0</td>\n",
       "      <td>...</td>\n",
       "      <td>530.0</td>\n",
       "      <td>591.0</td>\n",
       "      <td>591.0</td>\n",
       "      <td>591.0</td>\n",
       "      <td>665</td>\n",
       "      <td>733</td>\n",
       "      <td>733</td>\n",
       "      <td>779</td>\n",
       "      <td>779</td>\n",
       "      <td>830</td>\n",
       "    </tr>\n",
       "    <tr>\n",
       "      <th>1</th>\n",
       "      <td>Beijing</td>\n",
       "      <td>Mainland China</td>\n",
       "      <td>40.18238</td>\n",
       "      <td>116.4142</td>\n",
       "      <td>10.0</td>\n",
       "      <td>14.0</td>\n",
       "      <td>22.0</td>\n",
       "      <td>26.0</td>\n",
       "      <td>36.0</td>\n",
       "      <td>36.0</td>\n",
       "      <td>...</td>\n",
       "      <td>253.0</td>\n",
       "      <td>274.0</td>\n",
       "      <td>274.0</td>\n",
       "      <td>274.0</td>\n",
       "      <td>297</td>\n",
       "      <td>315</td>\n",
       "      <td>315</td>\n",
       "      <td>326</td>\n",
       "      <td>326</td>\n",
       "      <td>337</td>\n",
       "    </tr>\n",
       "    <tr>\n",
       "      <th>2</th>\n",
       "      <td>Chongqing</td>\n",
       "      <td>Mainland China</td>\n",
       "      <td>30.05718</td>\n",
       "      <td>107.8740</td>\n",
       "      <td>5.0</td>\n",
       "      <td>6.0</td>\n",
       "      <td>9.0</td>\n",
       "      <td>27.0</td>\n",
       "      <td>27.0</td>\n",
       "      <td>57.0</td>\n",
       "      <td>...</td>\n",
       "      <td>376.0</td>\n",
       "      <td>389.0</td>\n",
       "      <td>400.0</td>\n",
       "      <td>400.0</td>\n",
       "      <td>415</td>\n",
       "      <td>426</td>\n",
       "      <td>428</td>\n",
       "      <td>446</td>\n",
       "      <td>450</td>\n",
       "      <td>468</td>\n",
       "    </tr>\n",
       "    <tr>\n",
       "      <th>3</th>\n",
       "      <td>Fujian</td>\n",
       "      <td>Mainland China</td>\n",
       "      <td>26.07783</td>\n",
       "      <td>117.9895</td>\n",
       "      <td>NaN</td>\n",
       "      <td>1.0</td>\n",
       "      <td>5.0</td>\n",
       "      <td>5.0</td>\n",
       "      <td>10.0</td>\n",
       "      <td>10.0</td>\n",
       "      <td>...</td>\n",
       "      <td>205.0</td>\n",
       "      <td>215.0</td>\n",
       "      <td>215.0</td>\n",
       "      <td>215.0</td>\n",
       "      <td>224</td>\n",
       "      <td>239</td>\n",
       "      <td>239</td>\n",
       "      <td>250</td>\n",
       "      <td>250</td>\n",
       "      <td>261</td>\n",
       "    </tr>\n",
       "    <tr>\n",
       "      <th>4</th>\n",
       "      <td>Gansu</td>\n",
       "      <td>Mainland China</td>\n",
       "      <td>36.06110</td>\n",
       "      <td>103.8343</td>\n",
       "      <td>NaN</td>\n",
       "      <td>NaN</td>\n",
       "      <td>2.0</td>\n",
       "      <td>2.0</td>\n",
       "      <td>2.0</td>\n",
       "      <td>4.0</td>\n",
       "      <td>...</td>\n",
       "      <td>57.0</td>\n",
       "      <td>62.0</td>\n",
       "      <td>62.0</td>\n",
       "      <td>62.0</td>\n",
       "      <td>67</td>\n",
       "      <td>71</td>\n",
       "      <td>79</td>\n",
       "      <td>79</td>\n",
       "      <td>79</td>\n",
       "      <td>83</td>\n",
       "    </tr>\n",
       "  </tbody>\n",
       "</table>\n",
       "<p>5 rows × 40 columns</p>\n",
       "</div>"
      ],
      "text/plain": [
       "  Province/State  Country/Region       Lat      Long  1/21/20 22:00  \\\n",
       "0          Anhui  Mainland China  31.82571  117.2264            NaN   \n",
       "1        Beijing  Mainland China  40.18238  116.4142           10.0   \n",
       "2      Chongqing  Mainland China  30.05718  107.8740            5.0   \n",
       "3         Fujian  Mainland China  26.07783  117.9895            NaN   \n",
       "4          Gansu  Mainland China  36.06110  103.8343            NaN   \n",
       "\n",
       "   1/22/20 12:00  1/23/20 12:00  1/24/20 0:00  1/24/20 12:00  1/25/20 0:00  \\\n",
       "0            1.0            9.0          15.0           15.0          39.0   \n",
       "1           14.0           22.0          26.0           36.0          36.0   \n",
       "2            6.0            9.0          27.0           27.0          57.0   \n",
       "3            1.0            5.0           5.0           10.0          10.0   \n",
       "4            NaN            2.0           2.0            2.0           4.0   \n",
       "\n",
       "   ...  02/05/20 9:00  02/05/20 23:00  02/06/20 9:00  02/06/20 14:20  \\\n",
       "0  ...          530.0           591.0          591.0           591.0   \n",
       "1  ...          253.0           274.0          274.0           274.0   \n",
       "2  ...          376.0           389.0          400.0           400.0   \n",
       "3  ...          205.0           215.0          215.0           215.0   \n",
       "4  ...           57.0            62.0           62.0            62.0   \n",
       "\n",
       "   02/07/20 20:13  02/07/20 22:50  02/08/20 22:04  02/08/20 23:04  \\\n",
       "0             665             733             733             779   \n",
       "1             297             315             315             326   \n",
       "2             415             426             428             446   \n",
       "3             224             239             239             250   \n",
       "4              67              71              79              79   \n",
       "\n",
       "   02/09/20 10:30  02/09/20 23:20  \n",
       "0             779             830  \n",
       "1             326             337  \n",
       "2             450             468  \n",
       "3             250             261  \n",
       "4              79              83  \n",
       "\n",
       "[5 rows x 40 columns]"
      ]
     },
     "execution_count": 3,
     "metadata": {},
     "output_type": "execute_result"
    }
   ],
   "source": [
    "cov_confirmed.head()"
   ]
  },
  {
   "cell_type": "code",
   "execution_count": 4,
   "metadata": {},
   "outputs": [
    {
     "data": {
      "text/plain": [
       "Index(['Province/State', 'Country/Region', 'Lat', 'Long', '1/21/20 22:00',\n",
       "       '1/22/20 12:00', '1/23/20 12:00', '1/24/20 0:00', '1/24/20 12:00',\n",
       "       '1/25/20 0:00', '1/25/20 12:00', '1/25/20 22:00', '1/26/20 11:00',\n",
       "       '1/26/20 23:00', '1/27/20 9:00', '1/27/20 19:00', '1/27/20 20:30',\n",
       "       '1/28/20 13:00', '1/28/20 18:00', '1/28/20 23:00', '1/29/20 13:30',\n",
       "       '1/29/20 14:30', '1/29/20 21:00', '1/30/20 11:00', '1/31/20 14:00',\n",
       "       '02/01/20 10:00', '02/02/20 21:00', '02/03/20 21:00', '02/04/20 9:40',\n",
       "       '02/04/20 22:00', '02/05/20 9:00', '02/05/20 23:00', '02/06/20 9:00',\n",
       "       '02/06/20 14:20', '02/07/20 20:13', '02/07/20 22:50', '02/08/20 22:04',\n",
       "       '02/08/20 23:04', '02/09/20 10:30', '02/09/20 23:20'],\n",
       "      dtype='object')"
      ]
     },
     "execution_count": 4,
     "metadata": {},
     "output_type": "execute_result"
    }
   ],
   "source": [
    "cov_confirmed.columns"
   ]
  },
  {
   "cell_type": "code",
   "execution_count": 5,
   "metadata": {},
   "outputs": [
    {
     "name": "stdout",
     "output_type": "stream",
     "text": [
      "<class 'pandas.core.frame.DataFrame'>\n",
      "Int64Index: 1419 entries, 1 to 1419\n",
      "Data columns (total 7 columns):\n",
      "Date              1419 non-null object\n",
      "Province/State    1045 non-null object\n",
      "Country           1419 non-null object\n",
      "Last Update       1419 non-null object\n",
      "Confirmed         1419 non-null float64\n",
      "Deaths            1419 non-null float64\n",
      "Recovered         1419 non-null float64\n",
      "dtypes: float64(3), object(4)\n",
      "memory usage: 88.7+ KB\n"
     ]
    }
   ],
   "source": [
    "cov_data.info()"
   ]
  },
  {
   "cell_type": "code",
   "execution_count": 6,
   "metadata": {},
   "outputs": [
    {
     "data": {
      "text/html": [
       "<div>\n",
       "<style scoped>\n",
       "    .dataframe tbody tr th:only-of-type {\n",
       "        vertical-align: middle;\n",
       "    }\n",
       "\n",
       "    .dataframe tbody tr th {\n",
       "        vertical-align: top;\n",
       "    }\n",
       "\n",
       "    .dataframe thead th {\n",
       "        text-align: right;\n",
       "    }\n",
       "</style>\n",
       "<table border=\"1\" class=\"dataframe\">\n",
       "  <thead>\n",
       "    <tr style=\"text-align: right;\">\n",
       "      <th></th>\n",
       "      <th>Confirmed</th>\n",
       "      <th>Deaths</th>\n",
       "      <th>Recovered</th>\n",
       "    </tr>\n",
       "  </thead>\n",
       "  <tbody>\n",
       "    <tr>\n",
       "      <th>count</th>\n",
       "      <td>1419.000000</td>\n",
       "      <td>1419.000000</td>\n",
       "      <td>1419.000000</td>\n",
       "    </tr>\n",
       "    <tr>\n",
       "      <th>mean</th>\n",
       "      <td>353.098661</td>\n",
       "      <td>7.837914</td>\n",
       "      <td>24.916843</td>\n",
       "    </tr>\n",
       "    <tr>\n",
       "      <th>std</th>\n",
       "      <td>2748.467305</td>\n",
       "      <td>79.170874</td>\n",
       "      <td>187.054125</td>\n",
       "    </tr>\n",
       "    <tr>\n",
       "      <th>min</th>\n",
       "      <td>0.000000</td>\n",
       "      <td>0.000000</td>\n",
       "      <td>0.000000</td>\n",
       "    </tr>\n",
       "    <tr>\n",
       "      <th>25%</th>\n",
       "      <td>2.000000</td>\n",
       "      <td>0.000000</td>\n",
       "      <td>0.000000</td>\n",
       "    </tr>\n",
       "    <tr>\n",
       "      <th>50%</th>\n",
       "      <td>11.000000</td>\n",
       "      <td>0.000000</td>\n",
       "      <td>0.000000</td>\n",
       "    </tr>\n",
       "    <tr>\n",
       "      <th>75%</th>\n",
       "      <td>95.000000</td>\n",
       "      <td>0.000000</td>\n",
       "      <td>4.000000</td>\n",
       "    </tr>\n",
       "    <tr>\n",
       "      <th>max</th>\n",
       "      <td>51986.000000</td>\n",
       "      <td>1426.000000</td>\n",
       "      <td>4131.000000</td>\n",
       "    </tr>\n",
       "  </tbody>\n",
       "</table>\n",
       "</div>"
      ],
      "text/plain": [
       "          Confirmed       Deaths    Recovered\n",
       "count   1419.000000  1419.000000  1419.000000\n",
       "mean     353.098661     7.837914    24.916843\n",
       "std     2748.467305    79.170874   187.054125\n",
       "min        0.000000     0.000000     0.000000\n",
       "25%        2.000000     0.000000     0.000000\n",
       "50%       11.000000     0.000000     0.000000\n",
       "75%       95.000000     0.000000     4.000000\n",
       "max    51986.000000  1426.000000  4131.000000"
      ]
     },
     "execution_count": 6,
     "metadata": {},
     "output_type": "execute_result"
    }
   ],
   "source": [
    "cov_data.describe()"
   ]
  },
  {
   "cell_type": "code",
   "execution_count": 7,
   "metadata": {},
   "outputs": [
    {
     "name": "stdout",
     "output_type": "stream",
     "text": [
      "There are 1419 rows and 7 columns\n"
     ]
    }
   ],
   "source": [
    "nRows, nCols = cov_data.shape\n",
    "print(f'There are {nRows} rows and {nCols} columns')"
   ]
  },
  {
   "cell_type": "code",
   "execution_count": 8,
   "metadata": {},
   "outputs": [
    {
     "data": {
      "text/plain": [
       "Index(['Date', 'Province/State', 'Country', 'Last Update', 'Confirmed',\n",
       "       'Deaths', 'Recovered'],\n",
       "      dtype='object')"
      ]
     },
     "execution_count": 8,
     "metadata": {},
     "output_type": "execute_result"
    }
   ],
   "source": [
    "cov_data.columns"
   ]
  },
  {
   "cell_type": "code",
   "execution_count": 9,
   "metadata": {},
   "outputs": [
    {
     "name": "stderr",
     "output_type": "stream",
     "text": [
      "/opt/conda/lib/python3.6/site-packages/ipykernel_launcher.py:3: UserWarning: To output multiple subplots, the figure containing the passed axes is being cleared\n",
      "  This is separate from the ipykernel package so we can avoid doing imports until\n"
     ]
    },
    {
     "data": {
      "image/png": "[encoded data removed]",
      "text/plain": [
       "<Figure size 1440x432 with 4 Axes>"
      ]
     },
     "metadata": {
      "needs_background": "light"
     },
     "output_type": "display_data"
    }
   ],
   "source": [
    "fig = plt.figure(figsize=(20,6))\n",
    "ax_data = fig.gca()\n",
    "cov_data.hist(ax=ax_data)\n",
    "plt.style.use(\"ggplot\")"
   ]
  },
  {
   "cell_type": "code",
   "execution_count": 10,
   "metadata": {},
   "outputs": [
    {
     "data": {
      "text/plain": [
       "<matplotlib.axes._subplots.AxesSubplot at 0x7fa1909e3358>"
      ]
     },
     "execution_count": 10,
     "metadata": {},
     "output_type": "execute_result"
    },
    {
     "data": {
      "image/png": "[encoded data removed]",
      "text/plain": [
       "<Figure size 1440x432 with 1 Axes>"
      ]
     },
     "metadata": {},
     "output_type": "display_data"
    }
   ],
   "source": [
    "cov_data.plot(figsize=(20,6))"
   ]
  },
  {
   "cell_type": "markdown",
   "metadata": {},
   "source": [
    "**List of affected provinces/states**"
   ]
  },
  {
   "cell_type": "code",
   "execution_count": 11,
   "metadata": {},
   "outputs": [
    {
     "data": {
      "text/plain": [
       "array(['Anhui', 'Beijing', 'Chongqing', 'Fujian', 'Gansu', 'Guangdong',\n",
       "       'Guangxi', 'Guizhou', 'Hainan', 'Hebei', 'Heilongjiang', 'Henan',\n",
       "       'Hong Kong', 'Hubei', 'Hunan', 'Inner Mongolia', 'Jiangsu',\n",
       "       'Jiangxi', 'Jilin', 'Liaoning', 'Macau', 'Ningxia', 'Qinghai',\n",
       "       'Shaanxi', 'Shandong', 'Shanghai', 'Shanxi', 'Sichuan', 'Taiwan',\n",
       "       'Tianjin', 'Tibet', 'Washington', 'Xinjiang', 'Yunnan', 'Zhejiang',\n",
       "       nan, 'Chicago', 'Illinois', 'California', 'Arizona', 'Ontario',\n",
       "       'New South Wales', 'Victoria', 'Bavaria', 'British Columbia',\n",
       "       'Queensland', 'Chicago, IL', 'South Australia', 'Boston, MA',\n",
       "       'Los Angeles, CA', 'Orange, CA', 'Santa Clara, CA', 'Seattle, WA',\n",
       "       'Tempe, AZ', 'Toronto, ON', 'San Benito, CA', 'London, ON',\n",
       "       'Madison, WI', 'Cruise Ship', 'Diamond Princess cruise ship',\n",
       "       'San Diego County, CA', 'San Antonio, TX'], dtype=object)"
      ]
     },
     "execution_count": 11,
     "metadata": {},
     "output_type": "execute_result"
    }
   ],
   "source": [
    "cov_data['Province/State'].unique()"
   ]
  },
  {
   "cell_type": "code",
   "execution_count": 12,
   "metadata": {},
   "outputs": [
    {
     "data": {
      "text/plain": [
       "61"
      ]
     },
     "execution_count": 12,
     "metadata": {},
     "output_type": "execute_result"
    }
   ],
   "source": [
    "cov_data['Province/State'].nunique()"
   ]
  },
  {
   "cell_type": "markdown",
   "metadata": {},
   "source": [
    "**List of affected country**"
   ]
  },
  {
   "cell_type": "code",
   "execution_count": 13,
   "metadata": {},
   "outputs": [
    {
     "data": {
      "text/plain": [
       "Gansu                           23\n",
       "Beijing                         23\n",
       "Macau                           23\n",
       "Jiangxi                         23\n",
       "Inner Mongolia                  23\n",
       "                                ..\n",
       "Diamond Princess cruise ship     5\n",
       "San Diego County, CA             3\n",
       "Cruise Ship                      2\n",
       "Chicago                          1\n",
       "San Antonio, TX                  1\n",
       "Name: Province/State, Length: 61, dtype: int64"
      ]
     },
     "execution_count": 13,
     "metadata": {},
     "output_type": "execute_result"
    }
   ],
   "source": [
    "cov_data['Province/State'].value_counts()"
   ]
  },
  {
   "cell_type": "code",
   "execution_count": 14,
   "metadata": {},
   "outputs": [
    {
     "data": {
      "text/plain": [
       "<matplotlib.axes._subplots.AxesSubplot at 0x7fa190965208>"
      ]
     },
     "execution_count": 14,
     "metadata": {},
     "output_type": "execute_result"
    },
    {
     "data": {
      "image/png": "[encoded data removed]",
      "text/plain": [
       "<Figure size 1440x432 with 1 Axes>"
      ]
     },
     "metadata": {},
     "output_type": "display_data"
    }
   ],
   "source": [
    "plt.figure(figsize=(20,6))\n",
    "cov_data['Province/State'].value_counts().plot.bar()"
   ]
  },
  {
   "cell_type": "code",
   "execution_count": 15,
   "metadata": {},
   "outputs": [
    {
     "data": {
      "text/plain": [
       "array(['China', 'US', 'Japan', 'Thailand', 'South Korea',\n",
       "       'Mainland China', 'Hong Kong', 'Macau', 'Taiwan', 'Singapore',\n",
       "       'Philippines', 'Malaysia', 'Vietnam', 'Australia', 'Mexico',\n",
       "       'Brazil', 'France', 'Nepal', 'Canada', 'Cambodia', 'Sri Lanka',\n",
       "       'Ivory Coast', 'Germany', 'Finland', 'United Arab Emirates',\n",
       "       'India', 'Italy', 'Sweden', 'Russia', 'Spain', 'UK', 'Belgium',\n",
       "       'Others'], dtype=object)"
      ]
     },
     "execution_count": 15,
     "metadata": {},
     "output_type": "execute_result"
    }
   ],
   "source": [
    "cov_data['Country'].unique()"
   ]
  },
  {
   "cell_type": "code",
   "execution_count": 16,
   "metadata": {},
   "outputs": [
    {
     "data": {
      "text/plain": [
       "33"
      ]
     },
     "execution_count": 16,
     "metadata": {},
     "output_type": "execute_result"
    }
   ],
   "source": [
    "cov_data['Country'].nunique()"
   ]
  },
  {
   "cell_type": "code",
   "execution_count": 17,
   "metadata": {},
   "outputs": [
    {
     "data": {
      "text/plain": [
       "Mainland China          677\n",
       "US                      144\n",
       "Australia                68\n",
       "Canada                   47\n",
       "China                    34\n",
       "South Korea              23\n",
       "Japan                    23\n",
       "Thailand                 23\n",
       "Macau                    22\n",
       "Hong Kong                22\n",
       "Singapore                22\n",
       "Vietnam                  22\n",
       "Taiwan                   22\n",
       "France                   21\n",
       "Malaysia                 21\n",
       "Nepal                    20\n",
       "Germany                  18\n",
       "Sri Lanka                18\n",
       "Cambodia                 18\n",
       "United Arab Emirates     16\n",
       "Philippines              16\n",
       "Finland                  16\n",
       "India                    15\n",
       "Italy                    15\n",
       "UK                       14\n",
       "Russia                   14\n",
       "Sweden                   14\n",
       "Spain                    14\n",
       "Belgium                  10\n",
       "Others                    7\n",
       "Ivory Coast               1\n",
       "Brazil                    1\n",
       "Mexico                    1\n",
       "Name: Country, dtype: int64"
      ]
     },
     "execution_count": 17,
     "metadata": {},
     "output_type": "execute_result"
    }
   ],
   "source": [
    "cov_data['Country'].value_counts()"
   ]
  },
  {
   "cell_type": "code",
   "execution_count": 18,
   "metadata": {},
   "outputs": [
    {
     "data": {
      "text/plain": [
       "<matplotlib.axes._subplots.AxesSubplot at 0x7fa190802d68>"
      ]
     },
     "execution_count": 18,
     "metadata": {},
     "output_type": "execute_result"
    },
    {
     "data": {
      "image/png": "[encoded data removed]",
      "text/plain": [
       "<Figure size 1440x432 with 1 Axes>"
      ]
     },
     "metadata": {},
     "output_type": "display_data"
    }
   ],
   "source": [
    "plt.figure(figsize=(20,6))\n",
    "cov_data['Country'].value_counts().plot.bar()"
   ]
  },
  {
   "cell_type": "markdown",
   "metadata": {},
   "source": [
    "**Number of cases in each Province/State**"
   ]
  },
  {
   "cell_type": "code",
   "execution_count": 19,
   "metadata": {},
   "outputs": [
    {
     "data": {
      "text/html": [
       "<div>\n",
       "<style scoped>\n",
       "    .dataframe tbody tr th:only-of-type {\n",
       "        vertical-align: middle;\n",
       "    }\n",
       "\n",
       "    .dataframe tbody tr th {\n",
       "        vertical-align: top;\n",
       "    }\n",
       "\n",
       "    .dataframe thead th {\n",
       "        text-align: right;\n",
       "    }\n",
       "</style>\n",
       "<table border=\"1\" class=\"dataframe\">\n",
       "  <thead>\n",
       "    <tr style=\"text-align: right;\">\n",
       "      <th></th>\n",
       "      <th>Date</th>\n",
       "      <th>Country</th>\n",
       "      <th>Last Update</th>\n",
       "      <th>Confirmed</th>\n",
       "      <th>Deaths</th>\n",
       "      <th>Recovered</th>\n",
       "    </tr>\n",
       "    <tr>\n",
       "      <th>Province/State</th>\n",
       "      <th></th>\n",
       "      <th></th>\n",
       "      <th></th>\n",
       "      <th></th>\n",
       "      <th></th>\n",
       "      <th></th>\n",
       "    </tr>\n",
       "  </thead>\n",
       "  <tbody>\n",
       "    <tr>\n",
       "      <th>Hubei</th>\n",
       "      <td>02/13/2020 21:15:00</td>\n",
       "      <td>Mainland China</td>\n",
       "      <td>2020-09-02 03:03:00</td>\n",
       "      <td>51986.0</td>\n",
       "      <td>1426.0</td>\n",
       "      <td>4131.0</td>\n",
       "    </tr>\n",
       "    <tr>\n",
       "      <th>Guangdong</th>\n",
       "      <td>02/13/2020 21:15:00</td>\n",
       "      <td>Mainland China</td>\n",
       "      <td>2020-09-02 01:53:00</td>\n",
       "      <td>1261.0</td>\n",
       "      <td>2.0</td>\n",
       "      <td>332.0</td>\n",
       "    </tr>\n",
       "    <tr>\n",
       "      <th>Henan</th>\n",
       "      <td>02/13/2020 21:15:00</td>\n",
       "      <td>Mainland China</td>\n",
       "      <td>2020-09-02 01:13:00</td>\n",
       "      <td>1184.0</td>\n",
       "      <td>11.0</td>\n",
       "      <td>313.0</td>\n",
       "    </tr>\n",
       "    <tr>\n",
       "      <th>Zhejiang</th>\n",
       "      <td>02/13/2020 21:15:00</td>\n",
       "      <td>Mainland China</td>\n",
       "      <td>2020-09-02 03:03:00</td>\n",
       "      <td>1155.0</td>\n",
       "      <td>0.0</td>\n",
       "      <td>367.0</td>\n",
       "    </tr>\n",
       "    <tr>\n",
       "      <th>Hunan</th>\n",
       "      <td>02/13/2020 21:15:00</td>\n",
       "      <td>Mainland China</td>\n",
       "      <td>2020-09-02 01:13:00</td>\n",
       "      <td>988.0</td>\n",
       "      <td>2.0</td>\n",
       "      <td>352.0</td>\n",
       "    </tr>\n",
       "    <tr>\n",
       "      <th>Anhui</th>\n",
       "      <td>02/13/2020 21:15:00</td>\n",
       "      <td>Mainland China</td>\n",
       "      <td>2020-09-02 01:23:00</td>\n",
       "      <td>934.0</td>\n",
       "      <td>6.0</td>\n",
       "      <td>166.0</td>\n",
       "    </tr>\n",
       "    <tr>\n",
       "      <th>Jiangxi</th>\n",
       "      <td>02/13/2020 21:15:00</td>\n",
       "      <td>Mainland China</td>\n",
       "      <td>2020-09-02 01:23:00</td>\n",
       "      <td>900.0</td>\n",
       "      <td>1.0</td>\n",
       "      <td>187.0</td>\n",
       "    </tr>\n",
       "    <tr>\n",
       "      <th>Jiangsu</th>\n",
       "      <td>02/13/2020 21:15:00</td>\n",
       "      <td>Mainland China</td>\n",
       "      <td>2020-09-02 03:33:00</td>\n",
       "      <td>593.0</td>\n",
       "      <td>0.0</td>\n",
       "      <td>137.0</td>\n",
       "    </tr>\n",
       "    <tr>\n",
       "      <th>Chongqing</th>\n",
       "      <td>02/13/2020 21:15:00</td>\n",
       "      <td>Mainland China</td>\n",
       "      <td>2020-09-02 00:43:00</td>\n",
       "      <td>529.0</td>\n",
       "      <td>4.0</td>\n",
       "      <td>128.0</td>\n",
       "    </tr>\n",
       "    <tr>\n",
       "      <th>Shandong</th>\n",
       "      <td>02/13/2020 21:15:00</td>\n",
       "      <td>Mainland China</td>\n",
       "      <td>2020-09-02 02:13:00</td>\n",
       "      <td>519.0</td>\n",
       "      <td>2.0</td>\n",
       "      <td>111.0</td>\n",
       "    </tr>\n",
       "    <tr>\n",
       "      <th>Sichuan</th>\n",
       "      <td>02/13/2020 21:15:00</td>\n",
       "      <td>Mainland China</td>\n",
       "      <td>2020-09-02 01:13:00</td>\n",
       "      <td>463.0</td>\n",
       "      <td>1.0</td>\n",
       "      <td>105.0</td>\n",
       "    </tr>\n",
       "    <tr>\n",
       "      <th>Heilongjiang</th>\n",
       "      <td>02/13/2020 21:15:00</td>\n",
       "      <td>Mainland China</td>\n",
       "      <td>2020-09-02 01:03:00</td>\n",
       "      <td>418.0</td>\n",
       "      <td>11.0</td>\n",
       "      <td>37.0</td>\n",
       "    </tr>\n",
       "    <tr>\n",
       "      <th>Beijing</th>\n",
       "      <td>02/13/2020 21:15:00</td>\n",
       "      <td>Mainland China</td>\n",
       "      <td>2020-09-02 03:43:00</td>\n",
       "      <td>366.0</td>\n",
       "      <td>3.0</td>\n",
       "      <td>69.0</td>\n",
       "    </tr>\n",
       "    <tr>\n",
       "      <th>Shanghai</th>\n",
       "      <td>02/13/2020 21:15:00</td>\n",
       "      <td>Mainland China</td>\n",
       "      <td>2020-09-02 01:33:00</td>\n",
       "      <td>318.0</td>\n",
       "      <td>1.0</td>\n",
       "      <td>62.0</td>\n",
       "    </tr>\n",
       "    <tr>\n",
       "      <th>Hebei</th>\n",
       "      <td>02/13/2020 21:15:00</td>\n",
       "      <td>Mainland China</td>\n",
       "      <td>2020-09-02 01:03:00</td>\n",
       "      <td>283.0</td>\n",
       "      <td>3.0</td>\n",
       "      <td>69.0</td>\n",
       "    </tr>\n",
       "    <tr>\n",
       "      <th>Fujian</th>\n",
       "      <td>02/13/2020 21:15:00</td>\n",
       "      <td>Mainland China</td>\n",
       "      <td>2020-09-02 03:43:00</td>\n",
       "      <td>281.0</td>\n",
       "      <td>1.0</td>\n",
       "      <td>59.0</td>\n",
       "    </tr>\n",
       "    <tr>\n",
       "      <th>Shaanxi</th>\n",
       "      <td>02/13/2020 21:15:00</td>\n",
       "      <td>Mainland China</td>\n",
       "      <td>2020-09-02 03:03:00</td>\n",
       "      <td>229.0</td>\n",
       "      <td>0.0</td>\n",
       "      <td>46.0</td>\n",
       "    </tr>\n",
       "    <tr>\n",
       "      <th>Guangxi</th>\n",
       "      <td>02/13/2020 21:15:00</td>\n",
       "      <td>Mainland China</td>\n",
       "      <td>2020-09-02 00:33:00</td>\n",
       "      <td>226.0</td>\n",
       "      <td>2.0</td>\n",
       "      <td>35.0</td>\n",
       "    </tr>\n",
       "    <tr>\n",
       "      <th>Diamond Princess cruise ship</th>\n",
       "      <td>02/13/2020 21:15:00</td>\n",
       "      <td>Others</td>\n",
       "      <td>2020-02-14 00:13:23</td>\n",
       "      <td>218.0</td>\n",
       "      <td>0.0</td>\n",
       "      <td>0.0</td>\n",
       "    </tr>\n",
       "    <tr>\n",
       "      <th>Hainan</th>\n",
       "      <td>02/13/2020 21:15:00</td>\n",
       "      <td>Mainland China</td>\n",
       "      <td>2020-09-02 01:53:00</td>\n",
       "      <td>158.0</td>\n",
       "      <td>4.0</td>\n",
       "      <td>30.0</td>\n",
       "    </tr>\n",
       "  </tbody>\n",
       "</table>\n",
       "</div>"
      ],
      "text/plain": [
       "                                             Date         Country  \\\n",
       "Province/State                                                      \n",
       "Hubei                         02/13/2020 21:15:00  Mainland China   \n",
       "Guangdong                     02/13/2020 21:15:00  Mainland China   \n",
       "Henan                         02/13/2020 21:15:00  Mainland China   \n",
       "Zhejiang                      02/13/2020 21:15:00  Mainland China   \n",
       "Hunan                         02/13/2020 21:15:00  Mainland China   \n",
       "Anhui                         02/13/2020 21:15:00  Mainland China   \n",
       "Jiangxi                       02/13/2020 21:15:00  Mainland China   \n",
       "Jiangsu                       02/13/2020 21:15:00  Mainland China   \n",
       "Chongqing                     02/13/2020 21:15:00  Mainland China   \n",
       "Shandong                      02/13/2020 21:15:00  Mainland China   \n",
       "Sichuan                       02/13/2020 21:15:00  Mainland China   \n",
       "Heilongjiang                  02/13/2020 21:15:00  Mainland China   \n",
       "Beijing                       02/13/2020 21:15:00  Mainland China   \n",
       "Shanghai                      02/13/2020 21:15:00  Mainland China   \n",
       "Hebei                         02/13/2020 21:15:00  Mainland China   \n",
       "Fujian                        02/13/2020 21:15:00  Mainland China   \n",
       "Shaanxi                       02/13/2020 21:15:00  Mainland China   \n",
       "Guangxi                       02/13/2020 21:15:00  Mainland China   \n",
       "Diamond Princess cruise ship  02/13/2020 21:15:00          Others   \n",
       "Hainan                        02/13/2020 21:15:00  Mainland China   \n",
       "\n",
       "                                      Last Update  Confirmed  Deaths  \\\n",
       "Province/State                                                         \n",
       "Hubei                         2020-09-02 03:03:00    51986.0  1426.0   \n",
       "Guangdong                     2020-09-02 01:53:00     1261.0     2.0   \n",
       "Henan                         2020-09-02 01:13:00     1184.0    11.0   \n",
       "Zhejiang                      2020-09-02 03:03:00     1155.0     0.0   \n",
       "Hunan                         2020-09-02 01:13:00      988.0     2.0   \n",
       "Anhui                         2020-09-02 01:23:00      934.0     6.0   \n",
       "Jiangxi                       2020-09-02 01:23:00      900.0     1.0   \n",
       "Jiangsu                       2020-09-02 03:33:00      593.0     0.0   \n",
       "Chongqing                     2020-09-02 00:43:00      529.0     4.0   \n",
       "Shandong                      2020-09-02 02:13:00      519.0     2.0   \n",
       "Sichuan                       2020-09-02 01:13:00      463.0     1.0   \n",
       "Heilongjiang                  2020-09-02 01:03:00      418.0    11.0   \n",
       "Beijing                       2020-09-02 03:43:00      366.0     3.0   \n",
       "Shanghai                      2020-09-02 01:33:00      318.0     1.0   \n",
       "Hebei                         2020-09-02 01:03:00      283.0     3.0   \n",
       "Fujian                        2020-09-02 03:43:00      281.0     1.0   \n",
       "Shaanxi                       2020-09-02 03:03:00      229.0     0.0   \n",
       "Guangxi                       2020-09-02 00:33:00      226.0     2.0   \n",
       "Diamond Princess cruise ship  2020-02-14 00:13:23      218.0     0.0   \n",
       "Hainan                        2020-09-02 01:53:00      158.0     4.0   \n",
       "\n",
       "                              Recovered  \n",
       "Province/State                           \n",
       "Hubei                            4131.0  \n",
       "Guangdong                         332.0  \n",
       "Henan                             313.0  \n",
       "Zhejiang                          367.0  \n",
       "Hunan                             352.0  \n",
       "Anhui                             166.0  \n",
       "Jiangxi                           187.0  \n",
       "Jiangsu                           137.0  \n",
       "Chongqing                         128.0  \n",
       "Shandong                          111.0  \n",
       "Sichuan                           105.0  \n",
       "Heilongjiang                       37.0  \n",
       "Beijing                            69.0  \n",
       "Shanghai                           62.0  \n",
       "Hebei                              69.0  \n",
       "Fujian                             59.0  \n",
       "Shaanxi                            46.0  \n",
       "Guangxi                            35.0  \n",
       "Diamond Princess cruise ship        0.0  \n",
       "Hainan                             30.0  "
      ]
     },
     "execution_count": 19,
     "metadata": {},
     "output_type": "execute_result"
    }
   ],
   "source": [
    "p_data = cov_data.groupby(\"Province/State\").max()\n",
    "p_data = p_data.sort_values(\"Confirmed\", ascending=False)\n",
    "p_data.head(20)"
   ]
  },
  {
   "cell_type": "code",
   "execution_count": 20,
   "metadata": {},
   "outputs": [
    {
     "data": {
      "text/plain": [
       "<matplotlib.axes._subplots.AxesSubplot at 0x7fa1907bd978>"
      ]
     },
     "execution_count": 20,
     "metadata": {},
     "output_type": "execute_result"
    },
    {
     "data": {
      "image/png": "[encoded data removed]",
      "text/plain": [
       "<Figure size 1440x432 with 1 Axes>"
      ]
     },
     "metadata": {},
     "output_type": "display_data"
    }
   ],
   "source": [
    "p_data.head(20).groupby(\"Province/State\").max().plot.bar(figsize=(20,6))"
   ]
  },
  {
   "cell_type": "code",
   "execution_count": 21,
   "metadata": {},
   "outputs": [
    {
     "data": {
      "text/html": [
       "<div>\n",
       "<style scoped>\n",
       "    .dataframe tbody tr th:only-of-type {\n",
       "        vertical-align: middle;\n",
       "    }\n",
       "\n",
       "    .dataframe tbody tr th {\n",
       "        vertical-align: top;\n",
       "    }\n",
       "\n",
       "    .dataframe thead th {\n",
       "        text-align: right;\n",
       "    }\n",
       "</style>\n",
       "<table border=\"1\" class=\"dataframe\">\n",
       "  <thead>\n",
       "    <tr style=\"text-align: right;\">\n",
       "      <th></th>\n",
       "      <th>Confirmed</th>\n",
       "      <th>Deaths</th>\n",
       "      <th>Recovered</th>\n",
       "    </tr>\n",
       "    <tr>\n",
       "      <th>Country</th>\n",
       "      <th></th>\n",
       "      <th></th>\n",
       "      <th></th>\n",
       "    </tr>\n",
       "  </thead>\n",
       "  <tbody>\n",
       "    <tr>\n",
       "      <th>Mainland China</th>\n",
       "      <td>63841.0</td>\n",
       "      <td>1489.0</td>\n",
       "      <td>6982.0</td>\n",
       "    </tr>\n",
       "    <tr>\n",
       "      <th>Others</th>\n",
       "      <td>279.0</td>\n",
       "      <td>0.0</td>\n",
       "      <td>0.0</td>\n",
       "    </tr>\n",
       "    <tr>\n",
       "      <th>Hong Kong</th>\n",
       "      <td>53.0</td>\n",
       "      <td>1.0</td>\n",
       "      <td>1.0</td>\n",
       "    </tr>\n",
       "    <tr>\n",
       "      <th>US</th>\n",
       "      <td>23.0</td>\n",
       "      <td>0.0</td>\n",
       "      <td>3.0</td>\n",
       "    </tr>\n",
       "    <tr>\n",
       "      <th>Taiwan</th>\n",
       "      <td>18.0</td>\n",
       "      <td>0.0</td>\n",
       "      <td>1.0</td>\n",
       "    </tr>\n",
       "    <tr>\n",
       "      <th>Australia</th>\n",
       "      <td>15.0</td>\n",
       "      <td>0.0</td>\n",
       "      <td>8.0</td>\n",
       "    </tr>\n",
       "    <tr>\n",
       "      <th>Canada</th>\n",
       "      <td>10.0</td>\n",
       "      <td>0.0</td>\n",
       "      <td>1.0</td>\n",
       "    </tr>\n",
       "    <tr>\n",
       "      <th>Macau</th>\n",
       "      <td>10.0</td>\n",
       "      <td>0.0</td>\n",
       "      <td>3.0</td>\n",
       "    </tr>\n",
       "    <tr>\n",
       "      <th>Germany</th>\n",
       "      <td>7.0</td>\n",
       "      <td>0.0</td>\n",
       "      <td>0.0</td>\n",
       "    </tr>\n",
       "  </tbody>\n",
       "</table>\n",
       "</div>"
      ],
      "text/plain": [
       "                Confirmed  Deaths  Recovered\n",
       "Country                                     \n",
       "Mainland China    63841.0  1489.0     6982.0\n",
       "Others              279.0     0.0        0.0\n",
       "Hong Kong            53.0     1.0        1.0\n",
       "US                   23.0     0.0        3.0\n",
       "Taiwan               18.0     0.0        1.0\n",
       "Australia            15.0     0.0        8.0\n",
       "Canada               10.0     0.0        1.0\n",
       "Macau                10.0     0.0        3.0\n",
       "Germany               7.0     0.0        0.0"
      ]
     },
     "execution_count": 21,
     "metadata": {},
     "output_type": "execute_result"
    }
   ],
   "source": [
    "c1_data = p_data.groupby(\"Country\").sum()\n",
    "c1_data = c1_data.sort_values(\"Confirmed\", ascending=False)\n",
    "c1_data"
   ]
  },
  {
   "cell_type": "code",
   "execution_count": 22,
   "metadata": {},
   "outputs": [
    {
     "name": "stdout",
     "output_type": "stream",
     "text": [
      "Start Date:  01/22/2020 12:00:00\n",
      "Final Date:  02/13/2020 21:15:00\n"
     ]
    }
   ],
   "source": [
    "print(\"Start Date: \", cov_data[\"Date\"].min())\n",
    "print(\"Final Date: \", cov_data[\"Date\"].max())"
   ]
  },
  {
   "cell_type": "code",
   "execution_count": 23,
   "metadata": {},
   "outputs": [
    {
     "data": {
      "text/plain": [
       "01/22/2020 12:00:00    38\n",
       "01/23/2020 12:00:00    45\n",
       "01/24/2020 12:00:00    41\n",
       "01/25/2020 22:00:00    44\n",
       "01/26/2020 23:00:00    47\n",
       "01/27/2020 20:30:00    52\n",
       "01/28/2020 23:00:00    52\n",
       "01/29/2020 21:00:00    56\n",
       "01/30/2020 21:30:00    59\n",
       "01/31/2020 19:00:00    63\n",
       "02/01/2020 23:00:00    67\n",
       "02/02/2020 21:00:00    67\n",
       "02/03/2020 21:40:00    69\n",
       "02/04/2020 22:00:00    70\n",
       "02/05/2020 12:20:00    70\n",
       "02/06/2020 20:05:00    71\n",
       "02/07/2020 20:24:00    72\n",
       "02/08/2020 23:04:00    72\n",
       "02/09/2020 23:20:00    72\n",
       "02/10/2020 19:30:00    72\n",
       "02/11/2020 20:44:00    73\n",
       "02/12/2020 22:00:00    73\n",
       "02/13/2020 21:15:00    74\n",
       "Name: Date, dtype: int64"
      ]
     },
     "execution_count": 23,
     "metadata": {},
     "output_type": "execute_result"
    }
   ],
   "source": [
    "cov_data[\"Date\"].value_counts().sort_index()"
   ]
  },
  {
   "cell_type": "code",
   "execution_count": 24,
   "metadata": {},
   "outputs": [
    {
     "data": {
      "text/plain": [
       "<matplotlib.axes._subplots.AxesSubplot at 0x7fa190367320>"
      ]
     },
     "execution_count": 24,
     "metadata": {},
     "output_type": "execute_result"
    },
    {
     "data": {
      "image/png": "[encoded data removed]",
      "text/plain": [
       "<Figure size 1440x576 with 1 Axes>"
      ]
     },
     "metadata": {},
     "output_type": "display_data"
    }
   ],
   "source": [
    "cov_data[\"Date\"].value_counts().sort_index().plot.bar(figsize=(20,8))"
   ]
  },
  {
   "cell_type": "code",
   "execution_count": 25,
   "metadata": {},
   "outputs": [
    {
     "data": {
      "text/plain": [
       "<matplotlib.axes._subplots.AxesSubplot at 0x7fa1902dbf60>"
      ]
     },
     "execution_count": 25,
     "metadata": {},
     "output_type": "execute_result"
    },
    {
     "data": {
      "image/png": "[encoded data removed]",
      "text/plain": [
       "<Figure size 1440x576 with 1 Axes>"
      ]
     },
     "metadata": {},
     "output_type": "display_data"
    }
   ],
   "source": [
    "cov_data[\"Date\"].value_counts().sort_index().plot.line(figsize=(20,8))"
   ]
  },
  {
   "cell_type": "code",
   "execution_count": 26,
   "metadata": {},
   "outputs": [
    {
     "name": "stdout",
     "output_type": "stream",
     "text": [
      "Number of Affected :  501047.0\n",
      "Number of Deaths :  11122.0\n",
      "Number of Recovered :  35357.0\n"
     ]
    }
   ],
   "source": [
    "print(\"Number of Affected : \",cov_data[\"Confirmed\"].sum())\n",
    "print(\"Number of Deaths : \",cov_data[\"Deaths\"].sum())\n",
    "print(\"Number of Recovered : \",cov_data[\"Recovered\"].sum())"
   ]
  }
 ],
 "metadata": {
  "kernelspec": {
   "display_name": "Python 3",
   "language": "python",
   "name": "python3"
  },
  "language_info": {
   "codemirror_mode": {
    "name": "ipython",
    "version": 3
   },
   "file_extension": ".py",
   "mimetype": "text/x-python",
   "name": "python",
   "nbconvert_exporter": "python",
   "pygments_lexer": "ipython3",
   "version": "3.6.6"
  }
 },
 "nbformat": 4,
 "nbformat_minor": 1
}
